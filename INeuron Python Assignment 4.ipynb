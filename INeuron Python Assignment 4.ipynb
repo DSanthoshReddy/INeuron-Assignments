{
 "cells": [
  {
   "cell_type": "markdown",
   "metadata": {},
   "source": [
    "## 1.1 Write a Python Program(with class concepts) to find the area of the triangle using the below\n",
    "##   formula.\n",
    "## area = (s*(s-a)*(s-b)*(s-c)) ** 0.5\n",
    "## Function to take the length of the sides of triangle from user should be defined in the parent class and function to calculate the area should be defined in subclass."
   ]
  },
  {
   "cell_type": "code",
   "execution_count": 10,
   "metadata": {},
   "outputs": [
    {
     "name": "stdout",
     "output_type": "stream",
     "text": [
      "18.5\n",
      "Triangle area is: 1788.71875\n"
     ]
    }
   ],
   "source": [
    "class Data_Class:\n",
    "    def __init__(self,side1,side2,side3):\n",
    "        self._a = side1\n",
    "        self._b = side2\n",
    "        self._c = side3\n",
    "class Logic_Class(Data_Class):\n",
    "    def __init__(self,*args):\n",
    "        super().__init__(*args)\n",
    "        \n",
    "    def Area(self):\n",
    "        s = (self._a+self._b+self._c)/2\n",
    "        print(s)\n",
    "        area = (s*(s-self._a)*(s-self._b)*(s-self._c))*0.5\n",
    "        return area \n",
    "obj = Logic_Class(10,12,15)\n",
    "tri_area = obj.Area()\n",
    "print(\"Triangle area is: \"+str(tri_area))\n",
    "        \n",
    "    "
   ]
  },
  {
   "cell_type": "markdown",
   "metadata": {},
   "source": [
    "## 1.2 Write a function filter_long_words() that takes a list of words and an integer n and returns the list of words that are longer than n.\n",
    "\n"
   ]
  },
  {
   "cell_type": "code",
   "execution_count": 11,
   "metadata": {},
   "outputs": [
    {
     "data": {
      "text/plain": [
       "['Buffalo', 'Cricket', 'badminton']"
      ]
     },
     "execution_count": 11,
     "metadata": {},
     "output_type": "execute_result"
    }
   ],
   "source": [
    "def filter_long_words(words_List,n):\n",
    "    \n",
    "    filtered_words = []\n",
    "    for word in words_List:\n",
    "        if len(word) > n:\n",
    "            filtered_words.append(word)\n",
    "    return filtered_words\n",
    "\n",
    "req_List = filter_long_words(['am','cow','Buffalo','Cricket','badminton'],3)\n",
    "req_List\n",
    "            \n",
    "    "
   ]
  },
  {
   "cell_type": "markdown",
   "metadata": {},
   "source": [
    "## 2.1 Write a Python program using function concept that maps list of words into a list of integers representing the lengths of the corresponding words.\n"
   ]
  },
  {
   "cell_type": "code",
   "execution_count": 15,
   "metadata": {},
   "outputs": [
    {
     "name": "stdout",
     "output_type": "stream",
     "text": [
      "[2, 3, 7, 7, 9]\n"
     ]
    }
   ],
   "source": [
    "def Return_WordCount(word):\n",
    "    return len(word)\n",
    "word_Lst = ['am','cow','Buffalo','Cricket','badminton']\n",
    "count_Lst = list(map(Return_WordCount,word_Lst))\n",
    "print(count_Lst)"
   ]
  },
  {
   "cell_type": "markdown",
   "metadata": {},
   "source": [
    "## 2.2 Write a Python function which takes a character (i.e. a string of length 1) and returns True if it is a vowel, False otherwise.\n"
   ]
  },
  {
   "cell_type": "code",
   "execution_count": 18,
   "metadata": {},
   "outputs": [
    {
     "name": "stdout",
     "output_type": "stream",
     "text": [
      "False\n",
      "True\n"
     ]
    }
   ],
   "source": [
    "def isItVowel(char):\n",
    "    Vowel_lst = ['a','e','i','o','u']\n",
    "    if len(char) == 1:        \n",
    "        if char in Vowel_lst:\n",
    "            return True\n",
    "        else:\n",
    "            return False\n",
    "print(isItVowel('m'))\n",
    "print(isItVowel('a'))    "
   ]
  },
  {
   "cell_type": "code",
   "execution_count": null,
   "metadata": {},
   "outputs": [],
   "source": []
  }
 ],
 "metadata": {
  "kernelspec": {
   "display_name": "Python 3",
   "language": "python",
   "name": "python3"
  },
  "language_info": {
   "codemirror_mode": {
    "name": "ipython",
    "version": 3
   },
   "file_extension": ".py",
   "mimetype": "text/x-python",
   "name": "python",
   "nbconvert_exporter": "python",
   "pygments_lexer": "ipython3",
   "version": "3.8.5"
  }
 },
 "nbformat": 4,
 "nbformat_minor": 4
}
